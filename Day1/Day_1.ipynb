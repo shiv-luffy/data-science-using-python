{
 "cells": [
  {
   "cell_type": "markdown",
   "metadata": {},
   "source": [
    "### Python Basics"
   ]
  },
  {
   "cell_type": "markdown",
   "metadata": {},
   "source": [
    "**Python is a programming language.** This means python is a language with which we can communicate to our computer and tell it what to do!\n",
    "\n",
    "A **dynamic** programming language, is a programming language that executes it's commands at runtime. On the other hand static programming languages require a procedure that is called compilation. This procedure first translates the human-readable commands into machine-language instructions. An interpreted language doesn't require a compiler to run, but an interpreter.\n",
    "\n",
    "**General-purpose** programming languages, are those that are used in a wide variety of application domains. On the contrary there are domain-specific programming languages that are used in a single domain. Some examples of the latter are HTML (markup language for web applications), MATLAB (matrix representation and visualization), SQL (relational database queries) and UNIX shell scripts (data organization in unix-based systems).\n",
    "\n",
    "A **high-level** programming language has a strong abstraction from the details of the computer. These languages are much easier to work with, because they automate many areas such as memory management.\n",
    "\n",
    "Python is a really easy and powerful programming language and it has a simple and very straightforward syntax."
   ]
  },
  {
   "cell_type": "markdown",
   "metadata": {},
   "source": [
    "**Comments in python**\n",
    "\n",
    "Comments are lines that are ignored from the computer and are meant only for humans to be read."
   ]
  },
  {
   "cell_type": "code",
   "execution_count": 2,
   "metadata": {},
   "outputs": [
    {
     "data": {
      "text/plain": [
       "'\\nThis is a\\nmultiline\\ncomment.\\n'"
      ]
     },
     "execution_count": 2,
     "metadata": {},
     "output_type": "execute_result"
    }
   ],
   "source": [
    "# This is a comment!\n",
    "\n",
    "'''\n",
    "This is a\n",
    "multiline\n",
    "comment.\n",
    "'''"
   ]
  },
  {
   "cell_type": "markdown",
   "metadata": {},
   "source": [
    "**Assigning values to variables**\n",
    "\n",
    "To store information in memory we use variables. These can be letters or combinations of letters and numbers that help us store data to memory.\n",
    "\n",
    "The procedure with which we give a variable a value is called assignment and is done in python with the **equal sign (=)**."
   ]
  },
  {
   "cell_type": "code",
   "execution_count": 13,
   "metadata": {},
   "outputs": [
    {
     "data": {
      "text/plain": [
       "10"
      ]
     },
     "execution_count": 13,
     "metadata": {},
     "output_type": "execute_result"
    }
   ],
   "source": [
    "a = 10\n",
    "a"
   ]
  },
  {
   "cell_type": "code",
   "execution_count": 14,
   "metadata": {},
   "outputs": [
    {
     "data": {
      "text/plain": [
       "20"
      ]
     },
     "execution_count": 14,
     "metadata": {},
     "output_type": "execute_result"
    }
   ],
   "source": [
    "b = 20\n",
    "b"
   ]
  },
  {
   "cell_type": "markdown",
   "metadata": {},
   "source": [
    "**Printing to the screen**\n",
    "\n",
    "In order to display information to the user, we use the ```print``` function."
   ]
  },
  {
   "cell_type": "code",
   "execution_count": 1,
   "metadata": {},
   "outputs": [
    {
     "name": "stdout",
     "output_type": "stream",
     "text": [
      "Hello World!\n"
     ]
    }
   ],
   "source": [
    "print('Hello World!')"
   ]
  },
  {
   "cell_type": "code",
   "execution_count": 17,
   "metadata": {},
   "outputs": [
    {
     "name": "stdout",
     "output_type": "stream",
     "text": [
      "20\n",
      "10\n"
     ]
    }
   ],
   "source": [
    "print(b)\n",
    "print(a)"
   ]
  },
  {
   "cell_type": "code",
   "execution_count": 19,
   "metadata": {},
   "outputs": [
    {
     "name": "stdout",
     "output_type": "stream",
     "text": [
      "value of a is --- >    10\n"
     ]
    }
   ],
   "source": [
    "print(\"value of a is --- >   \" ,  a)"
   ]
  },
  {
   "cell_type": "code",
   "execution_count": 21,
   "metadata": {},
   "outputs": [
    {
     "name": "stdout",
     "output_type": "stream",
     "text": [
      "value of a is --- >    10 value of b is   ---> 20\n"
     ]
    }
   ],
   "source": [
    "print(\"value of a is --- >   \" ,  a   , \"value of b is   --->\"  ,b )"
   ]
  },
  {
   "cell_type": "markdown",
   "metadata": {},
   "source": [
    "**Data Types**\n",
    "\n",
    "Python has 5 standard data types:\n",
    "\n",
    "Numbers, Strings, Lists, Tuples and Dictionaries"
   ]
  },
  {
   "cell_type": "code",
   "execution_count": 22,
   "metadata": {},
   "outputs": [],
   "source": [
    "# 1 Numbers\n",
    "# 2 str\n",
    "# 3 Tuple\n",
    "# 4 List\n",
    "# 5 Dictionary"
   ]
  },
  {
   "cell_type": "markdown",
   "metadata": {},
   "source": [
    "***Numbers***\n",
    "\n",
    "**int**: for signed integers"
   ]
  },
  {
   "cell_type": "code",
   "execution_count": 3,
   "metadata": {},
   "outputs": [
    {
     "data": {
      "text/plain": [
       "int"
      ]
     },
     "execution_count": 3,
     "metadata": {},
     "output_type": "execute_result"
    }
   ],
   "source": [
    "a, b, c = 0, 55, -555\n",
    "type(a)"
   ]
  },
  {
   "cell_type": "markdown",
   "metadata": {},
   "source": [
    "**float**: for floating point decimals"
   ]
  },
  {
   "cell_type": "code",
   "execution_count": 4,
   "metadata": {},
   "outputs": [
    {
     "data": {
      "text/plain": [
       "float"
      ]
     },
     "execution_count": 4,
     "metadata": {},
     "output_type": "execute_result"
    }
   ],
   "source": [
    "a, b, c = 1.0, 89.3333333, -12.1\n",
    "type(a)"
   ]
  },
  {
   "cell_type": "markdown",
   "metadata": {},
   "source": [
    "**Strings**\n",
    "\n",
    "Strings are sequences of characters represented in quotation marks."
   ]
  },
  {
   "cell_type": "code",
   "execution_count": 5,
   "metadata": {},
   "outputs": [
    {
     "data": {
      "text/plain": [
       "str"
      ]
     },
     "execution_count": 5,
     "metadata": {},
     "output_type": "execute_result"
    }
   ],
   "source": [
    "st = 'I am a string!'\n",
    "st_2 = \"1\"\n",
    "st_3 = ''\n",
    "type(st)"
   ]
  },
  {
   "cell_type": "markdown",
   "metadata": {},
   "source": [
    "**Tuple** \n",
    "\n",
    "is one dimensional representaion of data which can be of mixed type and is immutable and enclosed within parentheses: (...)"
   ]
  },
  {
   "cell_type": "code",
   "execution_count": 24,
   "metadata": {},
   "outputs": [
    {
     "data": {
      "text/plain": [
       "(2, 3, 5, 6, 710, 90, 'data')"
      ]
     },
     "execution_count": 24,
     "metadata": {},
     "output_type": "execute_result"
    }
   ],
   "source": [
    "tup1  =  (  2,3,5,6,710 , 90 , \"data\"  )\n",
    "tup1"
   ]
  },
  {
   "cell_type": "code",
   "execution_count": 25,
   "metadata": {},
   "outputs": [
    {
     "data": {
      "text/plain": [
       "tuple"
      ]
     },
     "execution_count": 25,
     "metadata": {},
     "output_type": "execute_result"
    }
   ],
   "source": [
    "type(tup1) # type() is a built-in function used to check the nature / type of variable"
   ]
  },
  {
   "cell_type": "code",
   "execution_count": 26,
   "metadata": {},
   "outputs": [
    {
     "data": {
      "text/plain": [
       "7"
      ]
     },
     "execution_count": 26,
     "metadata": {},
     "output_type": "execute_result"
    }
   ],
   "source": [
    "len(tup1)# number of elments in the data "
   ]
  },
  {
   "cell_type": "code",
   "execution_count": 27,
   "metadata": {},
   "outputs": [
    {
     "data": {
      "text/plain": [
       "5"
      ]
     },
     "execution_count": 27,
     "metadata": {},
     "output_type": "execute_result"
    }
   ],
   "source": [
    "tup1[2]  # indexing starts from 0"
   ]
  },
  {
   "cell_type": "code",
   "execution_count": 29,
   "metadata": {},
   "outputs": [
    {
     "data": {
      "text/plain": [
       "90"
      ]
     },
     "execution_count": 29,
     "metadata": {},
     "output_type": "execute_result"
    }
   ],
   "source": [
    "tup1[5] "
   ]
  },
  {
   "cell_type": "code",
   "execution_count": 31,
   "metadata": {},
   "outputs": [
    {
     "data": {
      "text/plain": [
       "5"
      ]
     },
     "execution_count": 31,
     "metadata": {},
     "output_type": "execute_result"
    }
   ],
   "source": [
    "tup1[2]"
   ]
  },
  {
   "cell_type": "code",
   "execution_count": 32,
   "metadata": {},
   "outputs": [
    {
     "ename": "TypeError",
     "evalue": "'tuple' object does not support item assignment",
     "output_type": "error",
     "traceback": [
      "\u001b[1;31m---------------------------------------------------------------------------\u001b[0m",
      "\u001b[1;31mTypeError\u001b[0m                                 Traceback (most recent call last)",
      "\u001b[1;32m<ipython-input-32-88375d6c577e>\u001b[0m in \u001b[0;36m<module>\u001b[1;34m()\u001b[0m\n\u001b[1;32m----> 1\u001b[1;33m \u001b[0mtup1\u001b[0m\u001b[1;33m[\u001b[0m\u001b[1;36m2\u001b[0m\u001b[1;33m]\u001b[0m  \u001b[1;33m=\u001b[0m \u001b[1;36m55\u001b[0m \u001b[1;31m# i want to replace 5 with 55\u001b[0m\u001b[1;33m\u001b[0m\u001b[0m\n\u001b[0m",
      "\u001b[1;31mTypeError\u001b[0m: 'tuple' object does not support item assignment"
     ]
    }
   ],
   "source": [
    "tup1[2]  = 55 # i want to replace 5 with 55, but it will show error because tuple is immutable"
   ]
  },
  {
   "cell_type": "code",
   "execution_count": 34,
   "metadata": {},
   "outputs": [],
   "source": [
    "t2 =  ( 10 ,11,11,11, 12,14,5,678,90,45,45,45,60)"
   ]
  },
  {
   "cell_type": "code",
   "execution_count": 35,
   "metadata": {},
   "outputs": [
    {
     "data": {
      "text/plain": [
       "tuple"
      ]
     },
     "execution_count": 35,
     "metadata": {},
     "output_type": "execute_result"
    }
   ],
   "source": [
    "type(t2)"
   ]
  },
  {
   "cell_type": "code",
   "execution_count": 36,
   "metadata": {},
   "outputs": [
    {
     "data": {
      "text/plain": [
       "3"
      ]
     },
     "execution_count": 36,
     "metadata": {},
     "output_type": "execute_result"
    }
   ],
   "source": [
    "t2.count(45)# number of times / Freq "
   ]
  },
  {
   "cell_type": "code",
   "execution_count": 38,
   "metadata": {},
   "outputs": [
    {
     "data": {
      "text/plain": [
       "1"
      ]
     },
     "execution_count": 38,
     "metadata": {},
     "output_type": "execute_result"
    }
   ],
   "source": [
    "t2.count(10)"
   ]
  },
  {
   "cell_type": "code",
   "execution_count": 39,
   "metadata": {},
   "outputs": [
    {
     "data": {
      "text/plain": [
       "4"
      ]
     },
     "execution_count": 39,
     "metadata": {},
     "output_type": "execute_result"
    }
   ],
   "source": [
    "t2.index(12)"
   ]
  },
  {
   "cell_type": "code",
   "execution_count": 40,
   "metadata": {},
   "outputs": [
    {
     "data": {
      "text/plain": [
       "1"
      ]
     },
     "execution_count": 40,
     "metadata": {},
     "output_type": "execute_result"
    }
   ],
   "source": [
    "t2.index(11)"
   ]
  },
  {
   "cell_type": "markdown",
   "metadata": {},
   "source": [
    "**LIST**\n",
    "\n",
    "it is One dimensional represnetion of data which can be of mixed type and its Muttable and objects are separated by commas and enclosed by square brackets: [...]"
   ]
  },
  {
   "cell_type": "code",
   "execution_count": 43,
   "metadata": {},
   "outputs": [],
   "source": [
    "l1 = [ 10 , 20 , 9 ,  8, 34, 56,  90 ,100 , \"data\" , 90 , \"science\"]"
   ]
  },
  {
   "cell_type": "code",
   "execution_count": 44,
   "metadata": {},
   "outputs": [
    {
     "data": {
      "text/plain": [
       "list"
      ]
     },
     "execution_count": 44,
     "metadata": {},
     "output_type": "execute_result"
    }
   ],
   "source": [
    "type(l1)"
   ]
  },
  {
   "cell_type": "code",
   "execution_count": 45,
   "metadata": {},
   "outputs": [
    {
     "data": {
      "text/plain": [
       "11"
      ]
     },
     "execution_count": 45,
     "metadata": {},
     "output_type": "execute_result"
    }
   ],
   "source": [
    "len(l1)"
   ]
  },
  {
   "cell_type": "code",
   "execution_count": 46,
   "metadata": {},
   "outputs": [
    {
     "data": {
      "text/plain": [
       "9"
      ]
     },
     "execution_count": 46,
     "metadata": {},
     "output_type": "execute_result"
    }
   ],
   "source": [
    "l1[2]"
   ]
  },
  {
   "cell_type": "code",
   "execution_count": 47,
   "metadata": {},
   "outputs": [],
   "source": [
    "l1[2]  = 9999"
   ]
  },
  {
   "cell_type": "code",
   "execution_count": 48,
   "metadata": {},
   "outputs": [
    {
     "data": {
      "text/plain": [
       "[10, 20, 9999, 8, 34, 56, 90, 100, 'data', 90, 'science']"
      ]
     },
     "execution_count": 48,
     "metadata": {},
     "output_type": "execute_result"
    }
   ],
   "source": [
    "l1"
   ]
  },
  {
   "cell_type": "code",
   "execution_count": 53,
   "metadata": {},
   "outputs": [],
   "source": [
    "l1.append(2000)# append is used to add a element at the end"
   ]
  },
  {
   "cell_type": "code",
   "execution_count": 54,
   "metadata": {},
   "outputs": [
    {
     "data": {
      "text/plain": [
       "[10, 20, 9999, 8, 34, 56, 90, 100, 'data', 90, 'science', 2000, 2000, 2000]"
      ]
     },
     "execution_count": 54,
     "metadata": {},
     "output_type": "execute_result"
    }
   ],
   "source": [
    "l1"
   ]
  },
  {
   "cell_type": "code",
   "execution_count": 55,
   "metadata": {},
   "outputs": [
    {
     "data": {
      "text/plain": [
       "3"
      ]
     },
     "execution_count": 55,
     "metadata": {},
     "output_type": "execute_result"
    }
   ],
   "source": [
    "l1.count(2000) # count is used to count elements"
   ]
  },
  {
   "cell_type": "code",
   "execution_count": 57,
   "metadata": {},
   "outputs": [
    {
     "data": {
      "text/plain": [
       "1"
      ]
     },
     "execution_count": 57,
     "metadata": {},
     "output_type": "execute_result"
    }
   ],
   "source": [
    "l1.index(20)"
   ]
  },
  {
   "cell_type": "code",
   "execution_count": 58,
   "metadata": {},
   "outputs": [],
   "source": [
    "abc = list(     [ 20 , 30, 56,7,8,8,99, 754]     )"
   ]
  },
  {
   "cell_type": "code",
   "execution_count": 59,
   "metadata": {},
   "outputs": [
    {
     "data": {
      "text/plain": [
       "list"
      ]
     },
     "execution_count": 59,
     "metadata": {},
     "output_type": "execute_result"
    }
   ],
   "source": [
    "type(abc)"
   ]
  },
  {
   "cell_type": "code",
   "execution_count": 60,
   "metadata": {},
   "outputs": [
    {
     "data": {
      "text/plain": [
       "tuple"
      ]
     },
     "execution_count": 60,
     "metadata": {},
     "output_type": "execute_result"
    }
   ],
   "source": [
    "t2 =  ( 10 ,11,11,11, 12,14,5,678,90,45,45,45,60)\n",
    "type(t2)"
   ]
  },
  {
   "cell_type": "code",
   "execution_count": 61,
   "metadata": {},
   "outputs": [],
   "source": [
    "abd  = list(t2)"
   ]
  },
  {
   "cell_type": "code",
   "execution_count": 62,
   "metadata": {},
   "outputs": [
    {
     "data": {
      "text/plain": [
       "list"
      ]
     },
     "execution_count": 62,
     "metadata": {},
     "output_type": "execute_result"
    }
   ],
   "source": [
    "type(abd)"
   ]
  },
  {
   "cell_type": "markdown",
   "metadata": {},
   "source": [
    "**Dictionaries**\n",
    "\n",
    "Dictionaries store data in key-value pairs. Dictionaries are enclosed by curly brackets: {...}"
   ]
  },
  {
   "cell_type": "code",
   "execution_count": 6,
   "metadata": {},
   "outputs": [
    {
     "data": {
      "text/plain": [
       "dict"
      ]
     },
     "execution_count": 6,
     "metadata": {},
     "output_type": "execute_result"
    }
   ],
   "source": [
    "dc = {'name': 'a_name', 'age': 66, 'address': [53, 'Fragkoklistias', 'St'] }\n",
    "dc_2 = {}\n",
    "type(dc)"
   ]
  },
  {
   "cell_type": "markdown",
   "metadata": {},
   "source": [
    "We can change types for example:"
   ]
  },
  {
   "cell_type": "code",
   "execution_count": 8,
   "metadata": {},
   "outputs": [
    {
     "data": {
      "text/plain": [
       "'\\x05'"
      ]
     },
     "execution_count": 8,
     "metadata": {},
     "output_type": "execute_result"
    }
   ],
   "source": [
    "a = 5\n",
    "int(a)  # integer\n",
    "float(a)  # float\n",
    "str(a)  # string\n",
    "repr(a)  # expression string\n",
    "l = []\n",
    "t =tuple(l)  # tuple\n",
    "list(t)  # list\n",
    "set(t)  # set\n",
    "dict(t)  # dict\n",
    "chr(a)  # character"
   ]
  },
  {
   "cell_type": "markdown",
   "metadata": {},
   "source": [
    "### Numerical Operations"
   ]
  },
  {
   "cell_type": "markdown",
   "metadata": {},
   "source": [
    "The basic numeric operators in python are:"
   ]
  },
  {
   "cell_type": "code",
   "execution_count": 9,
   "metadata": {},
   "outputs": [
    {
     "name": "stdout",
     "output_type": "stream",
     "text": [
      "a + b = 9\n",
      "c + a = 2\n",
      "b * c = 30\n",
      "c / a = 1.5\n",
      "a % b = 2\n",
      "a // b = 1\n",
      "-a = -4\n",
      "b ** a = 625\n"
     ]
    }
   ],
   "source": [
    "a = 4\n",
    "b = 5\n",
    "c = 6\n",
    "\n",
    "# Sum:\n",
    "S = a + b\n",
    "print('a + b =', S)\n",
    "\n",
    "# Difference:\n",
    "D = c - a\n",
    "print('c - a =', D)\n",
    "\n",
    "# Product:\n",
    "P = b * c\n",
    "print('b * c =', P)\n",
    "\n",
    "# Quotient:\n",
    "Q = c / a\n",
    "print('c / a =', Q)\n",
    "\n",
    "# Remainder:\n",
    "R = c % a \n",
    "print('a % b =', R)\n",
    "\n",
    "# Floored Quotient:\n",
    "F = c // a\n",
    "print('a // b =', F)\n",
    "\n",
    "# Negative:\n",
    "N = -a\n",
    "print('-a =', N)\n",
    "\n",
    "# Power:\n",
    "Pow = b ** a\n",
    "print('b ** a =', Pow)"
   ]
  },
  {
   "cell_type": "markdown",
   "metadata": {},
   "source": [
    "We can combine more than one operations in a single line"
   ]
  },
  {
   "cell_type": "code",
   "execution_count": 10,
   "metadata": {},
   "outputs": [
    {
     "name": "stdout",
     "output_type": "stream",
     "text": [
      "3\n"
     ]
    }
   ],
   "source": [
    "E = a + b - c\n",
    "print(E)"
   ]
  },
  {
   "cell_type": "markdown",
   "metadata": {},
   "source": [
    "**Helpful built-in string functions**"
   ]
  },
  {
   "cell_type": "code",
   "execution_count": 11,
   "metadata": {},
   "outputs": [
    {
     "name": "stdout",
     "output_type": "stream",
     "text": [
      "st1:              I am a string\n",
      "len(st1):         13\n",
      "st1.index('a'):   2\n",
      "st1.count('a'):   2\n",
      "st1.count('i'):   1\n",
      "st3:              sasasas\n",
      "st1.count('sas'): 2\n"
     ]
    }
   ],
   "source": [
    "st1 = 'I am a string'\n",
    "st2 = \"me too!\"\n",
    "print('st1:             ', st1)\n",
    "print('len(st1):        ', len(st1))\n",
    "# returns the length of the string: 13\n",
    "print(\"st1.index('a'):  \", st1.index('a'))\n",
    "# returns the index of the first matching argument passed (in this case 'a'): 2\n",
    "print(\"st1.count('a'):  \", st1.count('a'))\n",
    "# returns how many times 'a' appears in the string: 2\n",
    "print(\"st1.count('i'):  \", st1.count('i'))\n",
    "# strings are case sensitive: 1\n",
    "st3 = 'sasasas'\n",
    "# New string\n",
    "print(\"st3:             \", st3)\n",
    "print(\"st1.count('sas'):\", st3.count('sas'))\n",
    "# counts only discrete appearances: 2 (even though 'sas' appears 3 times it returns 2 because the first 's' from the second 'sas' is the same as the last 's' of the first 'sas')"
   ]
  },
  {
   "cell_type": "markdown",
   "metadata": {},
   "source": [
    "**Logical operations**\n",
    "\n",
    "in, not in"
   ]
  },
  {
   "cell_type": "code",
   "execution_count": 12,
   "metadata": {},
   "outputs": [
    {
     "name": "stdout",
     "output_type": "stream",
     "text": [
      "st1:             I am a string\n",
      "'a' in st1:      True\n",
      "'o' in st1:      False\n",
      "'o' not in st1:  True\n"
     ]
    }
   ],
   "source": [
    "print('st1:            ', st1)\n",
    "print(\"'a' in st1:     \", 'a' in st1)\n",
    "# Returns True (because there is an 'a' in st1)\n",
    "print(\"'o' in st1:     \", 'o' in st1)\n",
    "# Returns False (because there isn't an 'o' in st1)\n",
    "print(\"'o' not in st1: \", 'o' not in st1)\n",
    "# Returns the opposite of the previous"
   ]
  },
  {
   "cell_type": "code",
   "execution_count": 13,
   "metadata": {},
   "outputs": [
    {
     "name": "stdout",
     "output_type": "stream",
     "text": [
      "st1 + st2:  I am a stringme too!\n"
     ]
    }
   ],
   "source": [
    "print('st1 + st2: ', st1 + st2) # concatenation of st1 and st2"
   ]
  },
  {
   "cell_type": "code",
   "execution_count": 14,
   "metadata": {},
   "outputs": [
    {
     "name": "stdout",
     "output_type": "stream",
     "text": [
      "st4:               rAnDoMLy CAPitaLiZed StrInG\n",
      "st4.capitalize():  Randomly capitalized string\n",
      "st4.lower():       randomly capitalized string\n",
      "st4.upper():       RANDOMLY CAPITALIZED STRING\n",
      "st4.swapcase():    RaNdOmlY capITAlIzED sTRiNg\n",
      "st4.title():       Randomly Capitalized String\n"
     ]
    }
   ],
   "source": [
    "# Capitalization\n",
    "\n",
    "st4 = 'rAnDoMLy CAPitaLiZed StrInG'\n",
    "print('st4:              ', st4)\n",
    "print(\"st4.capitalize(): \", st4.capitalize())\n",
    "# returns string with first letter capitalized and rest lowercase\n",
    "print(\"st4.lower():      \", st4.lower())\n",
    "# all lowercase\n",
    "print(\"st4.upper():      \", st4.upper())\n",
    "# all uppercase\n",
    "print(\"st4.swapcase():   \", st4.swapcase())\n",
    "# swaps upper for lowercase and vice versa\n",
    "print(\"st4.title():      \", st4.title())\n",
    "# capitalizes the first letter of each word"
   ]
  },
  {
   "cell_type": "markdown",
   "metadata": {},
   "source": [
    "**Split and Join**\n",
    "\n",
    "Split is used for splitting a string into a list of substrings according to a delimiter. Join helps us merging a list of characters into a single string."
   ]
  },
  {
   "cell_type": "code",
   "execution_count": 15,
   "metadata": {},
   "outputs": [
    {
     "name": "stdout",
     "output_type": "stream",
     "text": [
      "st1:               I am a string\n",
      "st1.split():       ['I', 'am', 'a', 'string']\n",
      "st1.split('a'):    ['I ', 'm ', ' string']\n",
      "st1.split('a', 1): ['I ', 'm a string']\n",
      "''.join(spl):     Iamastring\n",
      "'-'.join(spl):     I-am-a-string\n"
     ]
    }
   ],
   "source": [
    "print('st1:              ', st1)\n",
    "spl = st1.split()\n",
    "print('st1.split():      ', spl)\n",
    "# Splits string into a list of substrings (default delimiter: space)\n",
    "print(\"st1.split('a'):   \", st1.split('a'))\n",
    "# Split with delimiter 'a' (spacing is preserved)\n",
    "print(\"st1.split('a', 1):\", st1.split('a', 1))\n",
    "# Split with delimiter 'a'. Performs only 1 split\n",
    "print(\"''.join(spl):    \", ''.join(spl))\n",
    "# Joins sequence of strings as a string\n",
    "print(\"'-'.join(spl):    \", '-'.join(spl))\n",
    "# Joins sequence of strings with '-' as delimiter"
   ]
  },
  {
   "cell_type": "markdown",
   "metadata": {},
   "source": [
    "**Replace**  \n",
    "Python also has a built-in method for finding a substring in a string and replacing it with another one."
   ]
  },
  {
   "cell_type": "code",
   "execution_count": 17,
   "metadata": {},
   "outputs": [
    {
     "name": "stdout",
     "output_type": "stream",
     "text": [
      "Before replace:  me too!\n",
      "After replace:   me three!\n",
      "replace 'zz':  random string\n",
      "remove whitespace from previous example: lotsofwhitespace\n",
      "remove whitespace from previous example:   lots    of whitespace  \n"
     ]
    }
   ],
   "source": [
    "print(\"Before replace: \", st2)\n",
    "print('After replace:  ', st2.replace('too','three'))\n",
    "# replaces 'too' with 'three' in st2\n",
    "print(\"replace 'zz': \", 'razzndzzom stzzrizzng'.replace('zz', ''))\n",
    "# removes 'zz' from the string\n",
    "st5 = '   lots       of whitespace    '\n",
    "print('remove whitespace from previous example:', st5.replace(' ', ''))\n",
    "# removes all whitespace from the string\n",
    "print('remove whitespace from previous example:', st5.replace('  ', ' '))\n",
    "# replaces double spaces with single ones"
   ]
  },
  {
   "cell_type": "markdown",
   "metadata": {},
   "source": [
    "**Formatting**  \n",
    "Formatting is typically done with the built-in string.format() method. This method takes a string and replaces occurrences of curly brackets ({}) with whatever parameter we pass into it."
   ]
  },
  {
   "cell_type": "code",
   "execution_count": 18,
   "metadata": {},
   "outputs": [
    {
     "name": "stdout",
     "output_type": "stream",
     "text": [
      "bla bla {} bla\n",
      "bla bla 55 bla\n"
     ]
    }
   ],
   "source": [
    "ct = 55\n",
    "print('bla bla {} bla')\n",
    "print('bla bla {} bla'.format(ct))"
   ]
  },
  {
   "cell_type": "markdown",
   "metadata": {},
   "source": [
    "There is also an older way of using formatting strings with the percent ```(%)``` sign. This does not utilize the ```string.format()``` method."
   ]
  },
  {
   "cell_type": "code",
   "execution_count": 19,
   "metadata": {},
   "outputs": [
    {
     "name": "stdout",
     "output_type": "stream",
     "text": [
      "The first string I used in this tutorial was: I am a string, and the second one was: me too!\n",
      "bla bla 5 bla 10.00\n",
      "Python has 002 quote types.\n",
      "15 is an integer, 1.660000 is a float, asdf is a string.\n"
     ]
    }
   ],
   "source": [
    "ts = 'The first string I used in this tutorial was: %s, and the second one was: %s' %(st1,st2)\n",
    "print(ts)\n",
    "n1, n2 = 5, 10\n",
    "print('bla bla %i bla %.2f' %(n1,n2))\n",
    "print('%(language)s has %(number)03d quote types.' %{\"language\": \"Python\", \"number\": 2})\n",
    "print('%i is an integer, %f is a float, %s is a string.' %(15, 1.66, 'asdf'))"
   ]
  },
  {
   "cell_type": "code",
   "execution_count": null,
   "metadata": {},
   "outputs": [],
   "source": []
  }
 ],
 "metadata": {
  "kernelspec": {
   "display_name": "Python 3",
   "language": "python",
   "name": "python3"
  },
  "language_info": {
   "codemirror_mode": {
    "name": "ipython",
    "version": 3
   },
   "file_extension": ".py",
   "mimetype": "text/x-python",
   "name": "python",
   "nbconvert_exporter": "python",
   "pygments_lexer": "ipython3",
   "version": "3.7.6"
  }
 },
 "nbformat": 4,
 "nbformat_minor": 2
}
