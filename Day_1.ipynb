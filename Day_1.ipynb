{
 "cells": [
  {
   "cell_type": "markdown",
   "metadata": {},
   "source": [
    "### Python Basics"
   ]
  },
  {
   "cell_type": "markdown",
   "metadata": {},
   "source": [
    "**Python is a programming language.** This means python is a language with which we can communicate to our computer and tell it what to do!\n",
    "\n",
    "A **dynamic** programming language, is a programming language that executes it's commands at runtime. On the other hand static programming languages require a procedure that is called compilation. This procedure first translates the human-readable commands into machine-language instructions. An interpreted language doesn't require a compiler to run, but an interpreter.\n",
    "\n",
    "**General-purpose** programming languages, are those that are used in a wide variety of application domains. On the contrary there are domain-specific programming languages that are used in a single domain. Some examples of the latter are HTML (markup language for web applications), MATLAB (matrix representation and visualization), SQL (relational database queries) and UNIX shell scripts (data organization in unix-based systems).\n",
    "\n",
    "A **high-level** programming language has a strong abstraction from the details of the computer. These languages are much easier to work with, because they automate many areas such as memory management.\n",
    "\n",
    "Python is a really easy and powerful programming language and it has a simple and very straightforward syntax."
   ]
  },
  {
   "cell_type": "markdown",
   "metadata": {},
   "source": [
    "**Comments in python**\n",
    "\n",
    "Comments are lines that are ignored from the computer and are meant only for humans to be read."
   ]
  },
  {
   "cell_type": "code",
   "execution_count": 2,
   "metadata": {},
   "outputs": [
    {
     "data": {
      "text/plain": [
       "'\\nThis is a\\nmultiline\\ncomment.\\n'"
      ]
     },
     "execution_count": 2,
     "metadata": {},
     "output_type": "execute_result"
    }
   ],
   "source": [
    "# This is a comment!\n",
    "\n",
    "'''\n",
    "This is a\n",
    "multiline\n",
    "comment.\n",
    "'''"
   ]
  },
  {
   "cell_type": "markdown",
   "metadata": {},
   "source": [
    "**Assigning values to variables**\n",
    "\n",
    "To store information in memory we use variables. These can be letters or combinations of letters and numbers that help us store data to memory.\n",
    "\n",
    "The procedure with which we give a variable a value is called assignment and is done in python with the **equal sign (=)**."
   ]
  },
  {
   "cell_type": "code",
   "execution_count": 13,
   "metadata": {},
   "outputs": [
    {
     "data": {
      "text/plain": [
       "10"
      ]
     },
     "execution_count": 13,
     "metadata": {},
     "output_type": "execute_result"
    }
   ],
   "source": [
    "a = 10\n",
    "a"
   ]
  },
  {
   "cell_type": "code",
   "execution_count": 14,
   "metadata": {},
   "outputs": [
    {
     "data": {
      "text/plain": [
       "20"
      ]
     },
     "execution_count": 14,
     "metadata": {},
     "output_type": "execute_result"
    }
   ],
   "source": [
    "b = 20\n",
    "b"
   ]
  },
  {
   "cell_type": "markdown",
   "metadata": {},
   "source": [
    "**Printing to the screen**\n",
    "\n",
    "In order to display information to the user, we use the ```print``` function."
   ]
  },
  {
   "cell_type": "code",
   "execution_count": 1,
   "metadata": {},
   "outputs": [
    {
     "name": "stdout",
     "output_type": "stream",
     "text": [
      "Hello World!\n"
     ]
    }
   ],
   "source": [
    "print('Hello World!')"
   ]
  },
  {
   "cell_type": "code",
   "execution_count": 17,
   "metadata": {},
   "outputs": [
    {
     "name": "stdout",
     "output_type": "stream",
     "text": [
      "20\n",
      "10\n"
     ]
    }
   ],
   "source": [
    "print(b)\n",
    "print(a)"
   ]
  },
  {
   "cell_type": "code",
   "execution_count": 19,
   "metadata": {},
   "outputs": [
    {
     "name": "stdout",
     "output_type": "stream",
     "text": [
      "value of a is --- >    10\n"
     ]
    }
   ],
   "source": [
    "print(\"value of a is --- >   \" ,  a)"
   ]
  },
  {
   "cell_type": "code",
   "execution_count": 21,
   "metadata": {},
   "outputs": [
    {
     "name": "stdout",
     "output_type": "stream",
     "text": [
      "value of a is --- >    10 value of b is   ---> 20\n"
     ]
    }
   ],
   "source": [
    "print(\"value of a is --- >   \" ,  a   , \"value of b is   --->\"  ,b )"
   ]
  },
  {
   "cell_type": "markdown",
   "metadata": {},
   "source": [
    "**Data Types**\n",
    "\n",
    "Python has 5 standard data types:\n",
    "\n",
    "Numbers, Strings, Lists, Tuples and Dictionaries"
   ]
  },
  {
   "cell_type": "code",
   "execution_count": 22,
   "metadata": {},
   "outputs": [],
   "source": [
    "# 1 Numbers\n",
    "# 2 str\n",
    "# 3 Tuple\n",
    "# 4 List\n",
    "# 5 Dictionary"
   ]
  },
  {
   "cell_type": "markdown",
   "metadata": {},
   "source": [
    "***Numbers***\n",
    "\n",
    "**int**: for signed integers"
   ]
  },
  {
   "cell_type": "code",
   "execution_count": 3,
   "metadata": {},
   "outputs": [
    {
     "data": {
      "text/plain": [
       "int"
      ]
     },
     "execution_count": 3,
     "metadata": {},
     "output_type": "execute_result"
    }
   ],
   "source": [
    "a, b, c = 0, 55, -555\n",
    "type(a)"
   ]
  },
  {
   "cell_type": "markdown",
   "metadata": {},
   "source": [
    "**float**: for floating point decimals"
   ]
  },
  {
   "cell_type": "code",
   "execution_count": 4,
   "metadata": {},
   "outputs": [
    {
     "data": {
      "text/plain": [
       "float"
      ]
     },
     "execution_count": 4,
     "metadata": {},
     "output_type": "execute_result"
    }
   ],
   "source": [
    "a, b, c = 1.0, 89.3333333, -12.1\n",
    "type(a)"
   ]
  },
  {
   "cell_type": "markdown",
   "metadata": {},
   "source": [
    "**Strings**\n",
    "\n",
    "Strings are sequences of characters represented in quotation marks."
   ]
  },
  {
   "cell_type": "code",
   "execution_count": 5,
   "metadata": {},
   "outputs": [
    {
     "data": {
      "text/plain": [
       "str"
      ]
     },
     "execution_count": 5,
     "metadata": {},
     "output_type": "execute_result"
    }
   ],
   "source": [
    "st = 'I am a string!'\n",
    "st_2 = \"1\"\n",
    "st_3 = ''\n",
    "type(st)"
   ]
  },
  {
   "cell_type": "markdown",
   "metadata": {},
   "source": [
    "**Tuple** \n",
    "\n",
    "is one dimensional representaion of data which can be of mixed type and is immutable and enclosed within parentheses: (...)"
   ]
  },
  {
   "cell_type": "code",
   "execution_count": 24,
   "metadata": {},
   "outputs": [
    {
     "data": {
      "text/plain": [
       "(2, 3, 5, 6, 710, 90, 'data')"
      ]
     },
     "execution_count": 24,
     "metadata": {},
     "output_type": "execute_result"
    }
   ],
   "source": [
    "tup1  =  (  2,3,5,6,710 , 90 , \"data\"  )\n",
    "tup1"
   ]
  },
  {
   "cell_type": "code",
   "execution_count": 25,
   "metadata": {},
   "outputs": [
    {
     "data": {
      "text/plain": [
       "tuple"
      ]
     },
     "execution_count": 25,
     "metadata": {},
     "output_type": "execute_result"
    }
   ],
   "source": [
    "type(tup1) # type() is a built-in function used to check the nature / type of variable"
   ]
  },
  {
   "cell_type": "markdown",
   "metadata": {},
   "source": [
    "Tuples support many of the built-in functions that lists do ```(min()```,``` max()```,``` len()```, ```sum()```, etc.), but does not support functions that change the elements (e.g ```.sort()```). Instead we are forced to make copies of the tuple (```new_tup = sorted(tup)```)."
   ]
  },
  {
   "cell_type": "code",
   "execution_count": 26,
   "metadata": {},
   "outputs": [
    {
     "data": {
      "text/plain": [
       "7"
      ]
     },
     "execution_count": 26,
     "metadata": {},
     "output_type": "execute_result"
    }
   ],
   "source": [
    "len(tup1)# number of elments in the data "
   ]
  },
  {
   "cell_type": "code",
   "execution_count": 27,
   "metadata": {},
   "outputs": [
    {
     "data": {
      "text/plain": [
       "5"
      ]
     },
     "execution_count": 27,
     "metadata": {},
     "output_type": "execute_result"
    }
   ],
   "source": [
    "tup1[2]  # indexing starts from 0"
   ]
  },
  {
   "cell_type": "code",
   "execution_count": 29,
   "metadata": {},
   "outputs": [
    {
     "data": {
      "text/plain": [
       "90"
      ]
     },
     "execution_count": 29,
     "metadata": {},
     "output_type": "execute_result"
    }
   ],
   "source": [
    "tup1[5] "
   ]
  },
  {
   "cell_type": "code",
   "execution_count": 31,
   "metadata": {},
   "outputs": [
    {
     "data": {
      "text/plain": [
       "5"
      ]
     },
     "execution_count": 31,
     "metadata": {},
     "output_type": "execute_result"
    }
   ],
   "source": [
    "tup1[2]"
   ]
  },
  {
   "cell_type": "code",
   "execution_count": 32,
   "metadata": {},
   "outputs": [
    {
     "ename": "TypeError",
     "evalue": "'tuple' object does not support item assignment",
     "output_type": "error",
     "traceback": [
      "\u001b[1;31m---------------------------------------------------------------------------\u001b[0m",
      "\u001b[1;31mTypeError\u001b[0m                                 Traceback (most recent call last)",
      "\u001b[1;32m<ipython-input-32-88375d6c577e>\u001b[0m in \u001b[0;36m<module>\u001b[1;34m()\u001b[0m\n\u001b[1;32m----> 1\u001b[1;33m \u001b[0mtup1\u001b[0m\u001b[1;33m[\u001b[0m\u001b[1;36m2\u001b[0m\u001b[1;33m]\u001b[0m  \u001b[1;33m=\u001b[0m \u001b[1;36m55\u001b[0m \u001b[1;31m# i want to replace 5 with 55\u001b[0m\u001b[1;33m\u001b[0m\u001b[0m\n\u001b[0m",
      "\u001b[1;31mTypeError\u001b[0m: 'tuple' object does not support item assignment"
     ]
    }
   ],
   "source": [
    "tup1[2]  = 55 # i want to replace 5 with 55, but it will show error because tuple is immutable"
   ]
  },
  {
   "cell_type": "code",
   "execution_count": 34,
   "metadata": {},
   "outputs": [],
   "source": [
    "t2 =  ( 10 ,11,11,11, 12,14,5,678,90,45,45,45,60)"
   ]
  },
  {
   "cell_type": "code",
   "execution_count": 35,
   "metadata": {},
   "outputs": [
    {
     "data": {
      "text/plain": [
       "tuple"
      ]
     },
     "execution_count": 35,
     "metadata": {},
     "output_type": "execute_result"
    }
   ],
   "source": [
    "type(t2)"
   ]
  },
  {
   "cell_type": "code",
   "execution_count": 36,
   "metadata": {},
   "outputs": [
    {
     "data": {
      "text/plain": [
       "3"
      ]
     },
     "execution_count": 36,
     "metadata": {},
     "output_type": "execute_result"
    }
   ],
   "source": [
    "t2.count(45)# number of times / Freq "
   ]
  },
  {
   "cell_type": "code",
   "execution_count": 38,
   "metadata": {},
   "outputs": [
    {
     "data": {
      "text/plain": [
       "1"
      ]
     },
     "execution_count": 38,
     "metadata": {},
     "output_type": "execute_result"
    }
   ],
   "source": [
    "t2.count(10)"
   ]
  },
  {
   "cell_type": "code",
   "execution_count": 39,
   "metadata": {},
   "outputs": [
    {
     "data": {
      "text/plain": [
       "4"
      ]
     },
     "execution_count": 39,
     "metadata": {},
     "output_type": "execute_result"
    }
   ],
   "source": [
    "t2.index(12)"
   ]
  },
  {
   "cell_type": "code",
   "execution_count": 40,
   "metadata": {},
   "outputs": [
    {
     "data": {
      "text/plain": [
       "1"
      ]
     },
     "execution_count": 40,
     "metadata": {},
     "output_type": "execute_result"
    }
   ],
   "source": [
    "t2.index(11)"
   ]
  },
  {
   "cell_type": "markdown",
   "metadata": {},
   "source": [
    "**LIST**\n",
    "\n",
    "it is One dimensional represnetion of data which can be of mixed type and its Muttable and objects are separated by commas and enclosed by square brackets: [...]"
   ]
  },
  {
   "cell_type": "code",
   "execution_count": 43,
   "metadata": {},
   "outputs": [],
   "source": [
    "l1 = [ 10 , 20 , 9 ,  8, 34, 56,  90 ,100 , \"data\" , 90 , \"science\"]"
   ]
  },
  {
   "cell_type": "code",
   "execution_count": 44,
   "metadata": {},
   "outputs": [
    {
     "data": {
      "text/plain": [
       "list"
      ]
     },
     "execution_count": 44,
     "metadata": {},
     "output_type": "execute_result"
    }
   ],
   "source": [
    "type(l1)"
   ]
  },
  {
   "cell_type": "code",
   "execution_count": 45,
   "metadata": {},
   "outputs": [
    {
     "data": {
      "text/plain": [
       "11"
      ]
     },
     "execution_count": 45,
     "metadata": {},
     "output_type": "execute_result"
    }
   ],
   "source": [
    "len(l1)"
   ]
  },
  {
   "cell_type": "code",
   "execution_count": 46,
   "metadata": {},
   "outputs": [
    {
     "data": {
      "text/plain": [
       "9"
      ]
     },
     "execution_count": 46,
     "metadata": {},
     "output_type": "execute_result"
    }
   ],
   "source": [
    "l1[2]"
   ]
  },
  {
   "cell_type": "code",
   "execution_count": 47,
   "metadata": {},
   "outputs": [],
   "source": [
    "l1[2]  = 9999"
   ]
  },
  {
   "cell_type": "code",
   "execution_count": 48,
   "metadata": {},
   "outputs": [
    {
     "data": {
      "text/plain": [
       "[10, 20, 9999, 8, 34, 56, 90, 100, 'data', 90, 'science']"
      ]
     },
     "execution_count": 48,
     "metadata": {},
     "output_type": "execute_result"
    }
   ],
   "source": [
    "l1"
   ]
  },
  {
   "cell_type": "code",
   "execution_count": 53,
   "metadata": {},
   "outputs": [],
   "source": [
    "l1.append(2000)# append is used to add a element at the end"
   ]
  },
  {
   "cell_type": "code",
   "execution_count": 54,
   "metadata": {},
   "outputs": [
    {
     "data": {
      "text/plain": [
       "[10, 20, 9999, 8, 34, 56, 90, 100, 'data', 90, 'science', 2000, 2000, 2000]"
      ]
     },
     "execution_count": 54,
     "metadata": {},
     "output_type": "execute_result"
    }
   ],
   "source": [
    "l1"
   ]
  },
  {
   "cell_type": "code",
   "execution_count": 55,
   "metadata": {},
   "outputs": [
    {
     "data": {
      "text/plain": [
       "3"
      ]
     },
     "execution_count": 55,
     "metadata": {},
     "output_type": "execute_result"
    }
   ],
   "source": [
    "l1.count(2000) # count is used to count elements"
   ]
  },
  {
   "cell_type": "code",
   "execution_count": 57,
   "metadata": {},
   "outputs": [
    {
     "data": {
      "text/plain": [
       "1"
      ]
     },
     "execution_count": 57,
     "metadata": {},
     "output_type": "execute_result"
    }
   ],
   "source": [
    "l1.index(20)"
   ]
  },
  {
   "cell_type": "code",
   "execution_count": 58,
   "metadata": {},
   "outputs": [],
   "source": [
    "abc = list(     [ 20 , 30, 56,7,8,8,99, 754]     )"
   ]
  },
  {
   "cell_type": "code",
   "execution_count": 59,
   "metadata": {},
   "outputs": [
    {
     "data": {
      "text/plain": [
       "list"
      ]
     },
     "execution_count": 59,
     "metadata": {},
     "output_type": "execute_result"
    }
   ],
   "source": [
    "type(abc)"
   ]
  },
  {
   "cell_type": "code",
   "execution_count": 60,
   "metadata": {},
   "outputs": [
    {
     "data": {
      "text/plain": [
       "tuple"
      ]
     },
     "execution_count": 60,
     "metadata": {},
     "output_type": "execute_result"
    }
   ],
   "source": [
    "t2 =  ( 10 ,11,11,11, 12,14,5,678,90,45,45,45,60)\n",
    "type(t2)"
   ]
  },
  {
   "cell_type": "code",
   "execution_count": 61,
   "metadata": {},
   "outputs": [],
   "source": [
    "abd  = list(t2)"
   ]
  },
  {
   "cell_type": "code",
   "execution_count": 62,
   "metadata": {},
   "outputs": [
    {
     "data": {
      "text/plain": [
       "list"
      ]
     },
     "execution_count": 62,
     "metadata": {},
     "output_type": "execute_result"
    }
   ],
   "source": [
    "type(abd)"
   ]
  },
  {
   "cell_type": "markdown",
   "metadata": {},
   "source": [
    "**Dictionaries**\n",
    "\n",
    "Dictionaries store data in key-value pairs. Dictionaries are enclosed by curly brackets: {...}"
   ]
  },
  {
   "cell_type": "code",
   "execution_count": 6,
   "metadata": {},
   "outputs": [
    {
     "data": {
      "text/plain": [
       "dict"
      ]
     },
     "execution_count": 6,
     "metadata": {},
     "output_type": "execute_result"
    }
   ],
   "source": [
    "dc = {'name': 'a_name', 'age': 66, 'address': [53, 'Fragkoklistias', 'St'] }\n",
    "dc_2 = {}\n",
    "type(dc)"
   ]
  },
  {
   "cell_type": "markdown",
   "metadata": {},
   "source": [
    "We can change types for example:"
   ]
  },
  {
   "cell_type": "code",
   "execution_count": 8,
   "metadata": {},
   "outputs": [
    {
     "data": {
      "text/plain": [
       "'\\x05'"
      ]
     },
     "execution_count": 8,
     "metadata": {},
     "output_type": "execute_result"
    }
   ],
   "source": [
    "a = 5\n",
    "int(a)  # integer\n",
    "float(a)  # float\n",
    "str(a)  # string\n",
    "repr(a)  # expression string\n",
    "l = []\n",
    "t =tuple(l)  # tuple\n",
    "list(t)  # list\n",
    "set(t)  # set\n",
    "dict(t)  # dict\n",
    "chr(a)  # character"
   ]
  },
  {
   "cell_type": "markdown",
   "metadata": {},
   "source": [
    "**Other Built-In Methods**"
   ]
  },
  {
   "cell_type": "code",
   "execution_count": 15,
   "metadata": {
    "scrolled": true
   },
   "outputs": [
    {
     "name": "stdout",
     "output_type": "stream",
     "text": [
      "D1 is:  {'Name': 'Jack', 'Age': 12, 'Phone': '0123456789', 'key1': ['val1', 'val2'], 'key2': ['val1', 'val2'], 'key3': ['val1', 'val2'], 'key4': ['val1', 'val2']}\n",
      "D2 is:  {'key1': ['val1', 'val2'], 'key2': ['val1', 'val2'], 'key3': ['val1', 'val2'], 'key4': ['val1', 'val2']}\n"
     ]
    }
   ],
   "source": [
    "D1 = {'Name': 'Jack', 'Age': 12, 'Phone': '0123456789'}\n",
    "\n",
    "D1_cp = D1.copy()\n",
    "# Returns a shallow copy of dictionary dict\n",
    "D1.get('Age')\n",
    "# Returns the value of the key 'Age'. Same as D1['Age']:  12\n",
    "D1.items()\n",
    "# Returns a list of dict's (key, value) tuple pairs:   [('Phone', '0123456789'), ('Age', 12), ('Name', 'Jack')]\n",
    "D1.keys()\n",
    "# Returns list of dictionary dict's keys:  ['Phone', 'Age', 'Name']\n",
    "D1.values()\n",
    "# Returns list of dictionary dict's values:  ['0123456789', 12, 'Jack']\n",
    "# note again that both keys and values are unsorted\n",
    "D2 = {} \n",
    "D2 = D2.fromkeys(('key1', 'key2', 'key3', 'key4'), ['val1', 'val2'])\n",
    "# Create a new dictionary with keys from a sequence and values set to the values in a list: {'key3': ['val1', 'val2'], 'key2': ['val1', 'val2'], 'key1': ['val1', 'val2'], 'key4': ['val1', 'val2']}\n",
    "D1.update(D2)\n",
    "# Adds dictionary D2's key-values pairs to D1:  {'Phone': '0123456789', 'Name': 'Jack', 'key3': ['val1', 'val2'], 'key2': ['val1', 'val2'], 'Age': 12, 'key1': ['val1', 'val2'], 'key4': ['val1', 'val2']}\n",
    "print(\"D1 is: \", D1)\n",
    "print(\"D2 is: \", D2)"
   ]
  },
  {
   "cell_type": "markdown",
   "metadata": {},
   "source": [
    "### Numerical Operations"
   ]
  },
  {
   "cell_type": "markdown",
   "metadata": {},
   "source": [
    "The basic numeric operators in python are:"
   ]
  },
  {
   "cell_type": "code",
   "execution_count": 9,
   "metadata": {},
   "outputs": [
    {
     "name": "stdout",
     "output_type": "stream",
     "text": [
      "a + b = 9\n",
      "c + a = 2\n",
      "b * c = 30\n",
      "c / a = 1.5\n",
      "a % b = 2\n",
      "a // b = 1\n",
      "-a = -4\n",
      "b ** a = 625\n"
     ]
    }
   ],
   "source": [
    "a = 4\n",
    "b = 5\n",
    "c = 6\n",
    "\n",
    "# Sum:\n",
    "S = a + b\n",
    "print('a + b =', S)\n",
    "\n",
    "# Difference:\n",
    "D = c - a\n",
    "print('c - a =', D)\n",
    "\n",
    "# Product:\n",
    "P = b * c\n",
    "print('b * c =', P)\n",
    "\n",
    "# Quotient:\n",
    "Q = c / a\n",
    "print('c / a =', Q)\n",
    "\n",
    "# Remainder:\n",
    "R = c % a \n",
    "print('a % b =', R)\n",
    "\n",
    "# Floored Quotient:\n",
    "F = c // a\n",
    "print('a // b =', F)\n",
    "\n",
    "# Negative:\n",
    "N = -a\n",
    "print('-a =', N)\n",
    "\n",
    "# Power:\n",
    "Pow = b ** a\n",
    "print('b ** a =', Pow)"
   ]
  },
  {
   "cell_type": "markdown",
   "metadata": {},
   "source": [
    "We can combine more than one operations in a single line"
   ]
  },
  {
   "cell_type": "code",
   "execution_count": 10,
   "metadata": {},
   "outputs": [
    {
     "name": "stdout",
     "output_type": "stream",
     "text": [
      "3\n"
     ]
    }
   ],
   "source": [
    "E = a + b - c\n",
    "print(E)"
   ]
  },
  {
   "cell_type": "markdown",
   "metadata": {},
   "source": [
    "**Helpful built-in string functions**"
   ]
  },
  {
   "cell_type": "code",
   "execution_count": 11,
   "metadata": {},
   "outputs": [
    {
     "name": "stdout",
     "output_type": "stream",
     "text": [
      "st1:              I am a string\n",
      "len(st1):         13\n",
      "st1.index('a'):   2\n",
      "st1.count('a'):   2\n",
      "st1.count('i'):   1\n",
      "st3:              sasasas\n",
      "st1.count('sas'): 2\n"
     ]
    }
   ],
   "source": [
    "st1 = 'I am a string'\n",
    "st2 = \"me too!\"\n",
    "print('st1:             ', st1)\n",
    "print('len(st1):        ', len(st1))\n",
    "# returns the length of the string: 13\n",
    "print(\"st1.index('a'):  \", st1.index('a'))\n",
    "# returns the index of the first matching argument passed (in this case 'a'): 2\n",
    "print(\"st1.count('a'):  \", st1.count('a'))\n",
    "# returns how many times 'a' appears in the string: 2\n",
    "print(\"st1.count('i'):  \", st1.count('i'))\n",
    "# strings are case sensitive: 1\n",
    "st3 = 'sasasas'\n",
    "# New string\n",
    "print(\"st3:             \", st3)\n",
    "print(\"st1.count('sas'):\", st3.count('sas'))\n",
    "# counts only discrete appearances: 2 (even though 'sas' appears 3 times it returns 2 because the first 's' from the second 'sas' is the same as the last 's' of the first 'sas')"
   ]
  },
  {
   "cell_type": "markdown",
   "metadata": {},
   "source": [
    "**Logical operations**\n",
    "\n",
    "in, not in"
   ]
  },
  {
   "cell_type": "code",
   "execution_count": 12,
   "metadata": {},
   "outputs": [
    {
     "name": "stdout",
     "output_type": "stream",
     "text": [
      "st1:             I am a string\n",
      "'a' in st1:      True\n",
      "'o' in st1:      False\n",
      "'o' not in st1:  True\n"
     ]
    }
   ],
   "source": [
    "print('st1:            ', st1)\n",
    "print(\"'a' in st1:     \", 'a' in st1)\n",
    "# Returns True (because there is an 'a' in st1)\n",
    "print(\"'o' in st1:     \", 'o' in st1)\n",
    "# Returns False (because there isn't an 'o' in st1)\n",
    "print(\"'o' not in st1: \", 'o' not in st1)\n",
    "# Returns the opposite of the previous"
   ]
  },
  {
   "cell_type": "code",
   "execution_count": 13,
   "metadata": {},
   "outputs": [
    {
     "name": "stdout",
     "output_type": "stream",
     "text": [
      "st1 + st2:  I am a stringme too!\n"
     ]
    }
   ],
   "source": [
    "print('st1 + st2: ', st1 + st2) # concatenation of st1 and st2"
   ]
  },
  {
   "cell_type": "code",
   "execution_count": 14,
   "metadata": {},
   "outputs": [
    {
     "name": "stdout",
     "output_type": "stream",
     "text": [
      "st4:               rAnDoMLy CAPitaLiZed StrInG\n",
      "st4.capitalize():  Randomly capitalized string\n",
      "st4.lower():       randomly capitalized string\n",
      "st4.upper():       RANDOMLY CAPITALIZED STRING\n",
      "st4.swapcase():    RaNdOmlY capITAlIzED sTRiNg\n",
      "st4.title():       Randomly Capitalized String\n"
     ]
    }
   ],
   "source": [
    "# Capitalization\n",
    "\n",
    "st4 = 'rAnDoMLy CAPitaLiZed StrInG'\n",
    "print('st4:              ', st4)\n",
    "print(\"st4.capitalize(): \", st4.capitalize())\n",
    "# returns string with first letter capitalized and rest lowercase\n",
    "print(\"st4.lower():      \", st4.lower())\n",
    "# all lowercase\n",
    "print(\"st4.upper():      \", st4.upper())\n",
    "# all uppercase\n",
    "print(\"st4.swapcase():   \", st4.swapcase())\n",
    "# swaps upper for lowercase and vice versa\n",
    "print(\"st4.title():      \", st4.title())\n",
    "# capitalizes the first letter of each word"
   ]
  },
  {
   "cell_type": "markdown",
   "metadata": {},
   "source": [
    "**Split and Join**\n",
    "\n",
    "Split is used for splitting a string into a list of substrings according to a delimiter. Join helps us merging a list of characters into a single string."
   ]
  },
  {
   "cell_type": "code",
   "execution_count": 15,
   "metadata": {},
   "outputs": [
    {
     "name": "stdout",
     "output_type": "stream",
     "text": [
      "st1:               I am a string\n",
      "st1.split():       ['I', 'am', 'a', 'string']\n",
      "st1.split('a'):    ['I ', 'm ', ' string']\n",
      "st1.split('a', 1): ['I ', 'm a string']\n",
      "''.join(spl):     Iamastring\n",
      "'-'.join(spl):     I-am-a-string\n"
     ]
    }
   ],
   "source": [
    "print('st1:              ', st1)\n",
    "spl = st1.split()\n",
    "print('st1.split():      ', spl)\n",
    "# Splits string into a list of substrings (default delimiter: space)\n",
    "print(\"st1.split('a'):   \", st1.split('a'))\n",
    "# Split with delimiter 'a' (spacing is preserved)\n",
    "print(\"st1.split('a', 1):\", st1.split('a', 1))\n",
    "# Split with delimiter 'a'. Performs only 1 split\n",
    "print(\"''.join(spl):    \", ''.join(spl))\n",
    "# Joins sequence of strings as a string\n",
    "print(\"'-'.join(spl):    \", '-'.join(spl))\n",
    "# Joins sequence of strings with '-' as delimiter"
   ]
  },
  {
   "cell_type": "markdown",
   "metadata": {},
   "source": [
    "**Replace**  \n",
    "Python also has a built-in method for finding a substring in a string and replacing it with another one."
   ]
  },
  {
   "cell_type": "code",
   "execution_count": 17,
   "metadata": {},
   "outputs": [
    {
     "name": "stdout",
     "output_type": "stream",
     "text": [
      "Before replace:  me too!\n",
      "After replace:   me three!\n",
      "replace 'zz':  random string\n",
      "remove whitespace from previous example: lotsofwhitespace\n",
      "remove whitespace from previous example:   lots    of whitespace  \n"
     ]
    }
   ],
   "source": [
    "print(\"Before replace: \", st2)\n",
    "print('After replace:  ', st2.replace('too','three'))\n",
    "# replaces 'too' with 'three' in st2\n",
    "print(\"replace 'zz': \", 'razzndzzom stzzrizzng'.replace('zz', ''))\n",
    "# removes 'zz' from the string\n",
    "st5 = '   lots       of whitespace    '\n",
    "print('remove whitespace from previous example:', st5.replace(' ', ''))\n",
    "# removes all whitespace from the string\n",
    "print('remove whitespace from previous example:', st5.replace('  ', ' '))\n",
    "# replaces double spaces with single ones"
   ]
  },
  {
   "cell_type": "markdown",
   "metadata": {},
   "source": [
    "**Formatting**  \n",
    "Formatting is typically done with the built-in string.format() method. This method takes a string and replaces occurrences of curly brackets ({}) with whatever parameter we pass into it."
   ]
  },
  {
   "cell_type": "code",
   "execution_count": 18,
   "metadata": {},
   "outputs": [
    {
     "name": "stdout",
     "output_type": "stream",
     "text": [
      "bla bla {} bla\n",
      "bla bla 55 bla\n"
     ]
    }
   ],
   "source": [
    "ct = 55\n",
    "print('bla bla {} bla')\n",
    "print('bla bla {} bla'.format(ct))"
   ]
  },
  {
   "cell_type": "markdown",
   "metadata": {},
   "source": [
    "There is also an older way of using formatting strings with the percent ```(%)``` sign. This does not utilize the ```string.format()``` method."
   ]
  },
  {
   "cell_type": "code",
   "execution_count": 19,
   "metadata": {},
   "outputs": [
    {
     "name": "stdout",
     "output_type": "stream",
     "text": [
      "The first string I used in this tutorial was: I am a string, and the second one was: me too!\n",
      "bla bla 5 bla 10.00\n",
      "Python has 002 quote types.\n",
      "15 is an integer, 1.660000 is a float, asdf is a string.\n"
     ]
    }
   ],
   "source": [
    "ts = 'The first string I used in this tutorial was: %s, and the second one was: %s' %(st1,st2)\n",
    "print(ts)\n",
    "n1, n2 = 5, 10\n",
    "print('bla bla %i bla %.2f' %(n1,n2))\n",
    "print('%(language)s has %(number)03d quote types.' %{\"language\": \"Python\", \"number\": 2})\n",
    "print('%i is an integer, %f is a float, %s is a string.' %(15, 1.66, 'asdf'))"
   ]
  },
  {
   "cell_type": "markdown",
   "metadata": {},
   "source": [
    "**Lists**"
   ]
  },
  {
   "cell_type": "code",
   "execution_count": 1,
   "metadata": {},
   "outputs": [
    {
     "name": "stdout",
     "output_type": "stream",
     "text": [
      "L =  []\n",
      "L1 =  ['a', 'b', 'c', 'd', 'e']\n",
      "L2 =  [1, 2, 3, 4, 5]\n"
     ]
    }
   ],
   "source": [
    "# Empty lists\n",
    "L = []\n",
    "L = list()\n",
    "# Populated lists\n",
    "L1 = ['a','b','c','d','e']\n",
    "L2 = [1, 2, 3, 4, 5]\n",
    "\n",
    "print('L = ', L)\n",
    "print('L1 = ', L1)\n",
    "print('L2 = ', L2)"
   ]
  },
  {
   "cell_type": "markdown",
   "metadata": {},
   "source": [
    "**Indexing**  \n",
    "The list's elements are indexed as integers starting from zero to (n-1), where n is the length of the list."
   ]
  },
  {
   "cell_type": "code",
   "execution_count": 2,
   "metadata": {},
   "outputs": [
    {
     "name": "stdout",
     "output_type": "stream",
     "text": [
      "First element:  a\n",
      "Last element:  e\n"
     ]
    }
   ],
   "source": [
    "print('First element: ', L1[0]) # first element\n",
    "print('Last element: ', L1[-1]) # last element"
   ]
  },
  {
   "cell_type": "markdown",
   "metadata": {},
   "source": [
    "**Slicing**  \n",
    "Slicing is the operation in which we keep only a subset of the list."
   ]
  },
  {
   "cell_type": "markdown",
   "metadata": {},
   "source": [
    "Syntax is:  \n",
    "```ls[a:b:c]```  \n",
    "a: the index of the **starting point** of the slicing operation.  \n",
    "b: the index of the **ending point** (the final element in the slice will have the index of b-1).  \n",
    "c: the **step** of the operation (optional, default=1)."
   ]
  },
  {
   "cell_type": "code",
   "execution_count": 3,
   "metadata": {},
   "outputs": [
    {
     "name": "stdout",
     "output_type": "stream",
     "text": [
      "First two elements:                             L1[:2]    =  ['a', 'b']\n",
      "Elements from index 1 and onward:               L1[1:]    =  ['b', 'c', 'd', 'e']\n",
      "Last three elements:                            L1[-3:]   =  ['c', 'd', 'e']\n",
      "Elements with indexes 1 to 3:                   L1[1:4]   =  ['b', 'c', 'd']\n",
      "All elements of L1:                             L1[:]     =  ['a', 'b', 'c', 'd', 'e']\n",
      "Elements from indices 2 to 4 with a step of 2:  L1[2:5:2] =  ['c', 'e']\n",
      "Get every other item, starting with the first:  L1[::2]   =  ['a', 'c', 'e']\n",
      "Get every other item, starting with the second: L1[1::2]  =  ['b', 'd']\n"
     ]
    }
   ],
   "source": [
    "print('First two elements:                             L1[:2]    = ', L1[:2])\n",
    "print('Elements from index 1 and onward:               L1[1:]    = ', L1[1:])\n",
    "print('Last three elements:                            L1[-3:]   = ', L1[-3:])\n",
    "print('Elements with indexes 1 to 3:                   L1[1:4]   = ', L1[1:4])\n",
    "print('All elements of L1:                             L1[:]     = ', L1[:])\n",
    "print('Elements from indices 2 to 4 with a step of 2:  L1[2:5:2] = ', L1[2:5:2])\n",
    "print('Get every other item, starting with the first:  L1[::2]   = ', L1[::2])\n",
    "print('Get every other item, starting with the second: L1[1::2]  = ', L1[1::2])"
   ]
  },
  {
   "cell_type": "markdown",
   "metadata": {},
   "source": [
    "**Range**  \n",
    "\n",
    "Syntax is:  \n",
    "```range(a,b,c)```  \n",
    "a: **starting point** (optional, default=0).  \n",
    "b: **ending point** (last integer of the range is b-1).  \n",
    "c: **step** (optional, default=1).  "
   ]
  },
  {
   "cell_type": "code",
   "execution_count": 4,
   "metadata": {},
   "outputs": [
    {
     "name": "stdout",
     "output_type": "stream",
     "text": [
      "range(10) =  [0, 1, 2, 3, 4, 5, 6, 7, 8, 9]\n",
      "range(5,10) =  [5, 6, 7, 8, 9]\n",
      "range(1,20,2) =  [1, 3, 5, 7, 9, 11, 13, 15, 17, 19]\n"
     ]
    }
   ],
   "source": [
    "print('range(10) = ', list(range(10)))\n",
    "# this creates a list of integers ranging from 0 to the number before what we entered as a parameter.\n",
    "# range(x) essentially creates a list of all integers in [0,x)\n",
    "print('range(5,10) = ', list(range(5,10)))\n",
    "# like before, range(x,y) creates a list of all integers in [x,y)\n",
    "print('range(1,20,2) = ', list(range(1,20,2)))\n",
    "# this creates a list of integers in the range defined by the first two numbers,\n",
    "# but with a step of the third one."
   ]
  },
  {
   "cell_type": "markdown",
   "metadata": {},
   "source": [
    "**Note:** Range only works on **integers**."
   ]
  },
  {
   "cell_type": "markdown",
   "metadata": {},
   "source": [
    "**Updating list elements**"
   ]
  },
  {
   "cell_type": "code",
   "execution_count": 5,
   "metadata": {},
   "outputs": [
    {
     "name": "stdout",
     "output_type": "stream",
     "text": [
      "Before changes: L2 = [1, 2, 3, 4, 5]\n",
      "Single update: L2 = [1, 2, 6, 4, 5]\n",
      "Multiple update 1: L2 = [1, 22, 33, 44, 5]\n",
      "Multiple update 2: L2 = [1, 222, 333, 444, 5]\n"
     ]
    }
   ],
   "source": [
    "print('Before changes: L2 =', L2)\n",
    "L2[2] = 6 # we update the 3rd element in our list\n",
    "print('Single update: L2 =', L2)\n",
    "L2[1:4] = [22, 33, 44] # update the 2nd, 3rd and 4th elements\n",
    "print('Multiple update 1: L2 =', L2)\n",
    "L2[1:4] = 222, 333, 444 # same thing without the list\n",
    "print('Multiple update 2: L2 =', L2)"
   ]
  },
  {
   "cell_type": "markdown",
   "metadata": {},
   "source": [
    "**Deleting and inserting elements**"
   ]
  },
  {
   "cell_type": "code",
   "execution_count": 6,
   "metadata": {},
   "outputs": [
    {
     "name": "stdout",
     "output_type": "stream",
     "text": [
      "Single delete:  [1, 222, 444, 5]\n",
      "Single insert:  [1, 222, 3, 444, 5]\n",
      "Extend:  [1, 222, 3, 444, 5, 6, 7, 8]\n",
      "Remove:  [1, 3, 5, 6, 7, 8]\n",
      "L2 final:  [1, 2, 3, 4, 5, 6, 7, 8]\n"
     ]
    },
    {
     "ename": "NameError",
     "evalue": "name 'L' is not defined",
     "output_type": "error",
     "traceback": [
      "\u001b[0;31m---------------------------------------------------------------------------\u001b[0m",
      "\u001b[0;31mNameError\u001b[0m                                 Traceback (most recent call last)",
      "\u001b[0;32m<ipython-input-6-ae90233a831d>\u001b[0m in \u001b[0;36m<module>\u001b[0;34m\u001b[0m\n\u001b[1;32m     12\u001b[0m \u001b[0mprint\u001b[0m\u001b[0;34m(\u001b[0m\u001b[0;34m'L2 final: '\u001b[0m\u001b[0;34m,\u001b[0m \u001b[0mL2\u001b[0m\u001b[0;34m)\u001b[0m\u001b[0;34m\u001b[0m\u001b[0;34m\u001b[0m\u001b[0m\n\u001b[1;32m     13\u001b[0m \u001b[0;32mdel\u001b[0m \u001b[0mL\u001b[0m \u001b[0;31m# deletes the whole list\u001b[0m\u001b[0;34m\u001b[0m\u001b[0;34m\u001b[0m\u001b[0m\n\u001b[0;32m---> 14\u001b[0;31m \u001b[0mprint\u001b[0m\u001b[0;34m(\u001b[0m\u001b[0mL\u001b[0m\u001b[0;34m)\u001b[0m  \u001b[0;31m## this will show error becauseit was deleted\u001b[0m\u001b[0;34m\u001b[0m\u001b[0;34m\u001b[0m\u001b[0m\n\u001b[0m",
      "\u001b[0;31mNameError\u001b[0m: name 'L' is not defined"
     ]
    }
   ],
   "source": [
    "del L2[2] # deletes element of list L2 with an index of 2\n",
    "print('Single delete: ', L2)\n",
    "L2.insert(2, 3) # inserts element 3 to index 2 of L2\n",
    "print('Single insert: ', L2)\n",
    "L2.extend([6,7,8]) # extends the list with values from a new list\n",
    "print('Extend: ', L2)\n",
    "L2.remove(222) # removes the first occurrence of the element 2 in L2\n",
    "L2.remove(444)\n",
    "print('Remove: ', L2) \n",
    "L2.insert(1, 2)\n",
    "L2.insert(3, 4)\n",
    "print('L2 final: ', L2)\n",
    "del L # deletes the whole list\n",
    "print(L)  ## this will show error becauseit was deleted"
   ]
  },
  {
   "cell_type": "markdown",
   "metadata": {},
   "source": [
    "The main difference between **```del```** and **```.remove()```** is that in **del** we have to refer to what we are deleting by **index**, while in **remove** we need to refer to the element's **value** instead."
   ]
  },
  {
   "cell_type": "markdown",
   "metadata": {},
   "source": [
    "While inserting,  \n",
    "```list.insert(a,b)```  \n",
    "adds the value ```b``` to the list ```ls``` in the spot designated by the index ```a```. All elements after ```a``` will have their index shifted up by 1."
   ]
  },
  {
   "cell_type": "markdown",
   "metadata": {},
   "source": [
    "**Other built-in functions**"
   ]
  },
  {
   "cell_type": "code",
   "execution_count": 7,
   "metadata": {},
   "outputs": [
    {
     "name": "stdout",
     "output_type": "stream",
     "text": [
      "len(L1) = 5\n",
      "max(L1) = 8\n",
      "min(L1) = 1\n",
      "sum(L1) = 36\n",
      "'a's in L1 = 1\n",
      "Extended L1 = ['a', 'b', 'c', 'd', 'e', 'f', 'g', 'h']\n",
      "Index of 'd' = 3\n",
      "L2 before reverse:  [1, 2, 3, 4, 5, 6, 7, 8]\n",
      "L2 after reverse:  [8, 7, 6, 5, 4, 3, 2, 1]\n",
      "L2 before sort:  [8, 0, 6, 5, 6, 3, 2, 1]\n",
      "L2 after sort:  [0, 1, 2, 3, 5, 6, 6, 8]\n",
      "L2 after reverse sort:  [8, 6, 6, 5, 3, 2, 1, 0]\n"
     ]
    }
   ],
   "source": [
    "print('len(L1) =', len(L1)) # gives the total length of the list\n",
    "print('max(L1) =', max(L2)) # returns the element with the max value\n",
    "print('min(L1) =', min(L2)) # returns the element with the min value\n",
    "print('sum(L1) =', sum(L2)) # returns the sum of the elements in L2\n",
    "print(\"'a's in L1 =\", L1.count('a')) # counts how many times 'a' occurs in L1\n",
    "seq  = ('f','g','h')\n",
    "L1.extend(seq) # extends contents of seq to L1\n",
    "print('Extended L1 =', L1)\n",
    "print(\"Index of 'd' =\", L1.index('d')) # returns the lowest index in list that 'd' appears in L1\n",
    "print('L2 before reverse: ', L2)\n",
    "L2.reverse() # reverses order of objects in list\n",
    "print('L2 after reverse: ', L2)\n",
    "L2[1] = 0; L2[4] = 6 \n",
    "print('L2 before sort: ', L2)\n",
    "L2.sort() # sorts objects in list (default = ascending) \n",
    "print('L2 after sort: ', L2)\n",
    "L2.sort(reverse=True) # descending sort L2\n",
    "print('L2 after reverse sort: ', L2)\n",
    "# to get a sorted copy of the list we can use the sorted built in function\n",
    "L2_cp = sorted(L2)"
   ]
  },
  {
   "cell_type": "markdown",
   "metadata": {},
   "source": [
    "**Iterators**  \n",
    "Iterators are built-in objects that allow access to elements in a data structure."
   ]
  },
  {
   "cell_type": "code",
   "execution_count": 8,
   "metadata": {},
   "outputs": [
    {
     "name": "stdout",
     "output_type": "stream",
     "text": [
      "L1 = ['a', 'b', 'c', 'd', 'e', 'f', 'g', 'h']\n",
      "First element:  a\n",
      "Second element:  b\n"
     ]
    }
   ],
   "source": [
    "print('L1 =', L1)\n",
    "itr = iter(L1) # declare an iterator object of list L1\n",
    "print('First element: ', next(itr))  # fetch the first element of L1 and store it in itr\n",
    "print('Second element: ', next(itr)) # fetch the second element of L1 and store it in itr"
   ]
  },
  {
   "cell_type": "markdown",
   "metadata": {},
   "source": [
    "**Membership conditions**  \n",
    "These conditions help us check if a list contains a certain object and return True or False accordingly"
   ]
  },
  {
   "cell_type": "code",
   "execution_count": 9,
   "metadata": {},
   "outputs": [
    {
     "name": "stdout",
     "output_type": "stream",
     "text": [
      "L1 = ['a', 'b', 'c', 'd', 'e', 'f', 'g', 'h']\n",
      "L2 = [8, 6, 6, 5, 3, 2, 1, 0]\n",
      "'d' in L1:  True\n",
      "'d' in L2:  False\n"
     ]
    }
   ],
   "source": [
    "print('L1 =', L1)\n",
    "print('L2 =', L2)\n",
    "print(\"'d' in L1: \", 'd' in L1)\n",
    "print(\"'d' in L2: \", 'd' in L2)"
   ]
  },
  {
   "cell_type": "markdown",
   "metadata": {},
   "source": [
    "**Zip**  \n",
    "Zip takes two equal-length collections (works on other data structures besides lists) and merges them together in pairs"
   ]
  },
  {
   "cell_type": "code",
   "execution_count": 10,
   "metadata": {},
   "outputs": [
    {
     "name": "stdout",
     "output_type": "stream",
     "text": [
      "zip(a,b) = [(1, 2), (2, 2), (3, 9), (4, 0), (5, 9)]\n"
     ]
    }
   ],
   "source": [
    "a = [1, 2, 3, 4, 5]\n",
    "b = [2, 2, 9, 0, 9]\n",
    "z = list(zip(a,b))\n",
    "print('zip(a,b) =', z)"
   ]
  },
  {
   "cell_type": "markdown",
   "metadata": {},
   "source": [
    "**map**  \n",
    "map takes a function and applies it to each element in an iterable."
   ]
  },
  {
   "cell_type": "code",
   "execution_count": 12,
   "metadata": {},
   "outputs": [
    {
     "name": "stdout",
     "output_type": "stream",
     "text": [
      "s = [3, 4, 12, 4, 14]\n"
     ]
    }
   ],
   "source": [
    "s = list(map(sum, zip(a,b))) # map applies the sum function to each and every elements of zipped\n",
    "print('s =', s)"
   ]
  },
  {
   "cell_type": "code",
   "execution_count": null,
   "metadata": {},
   "outputs": [],
   "source": []
  }
 ],
 "metadata": {
  "kernelspec": {
   "display_name": "Python 3",
   "language": "python",
   "name": "python3"
  },
  "language_info": {
   "codemirror_mode": {
    "name": "ipython",
    "version": 3
   },
   "file_extension": ".py",
   "mimetype": "text/x-python",
   "name": "python",
   "nbconvert_exporter": "python",
   "pygments_lexer": "ipython3",
   "version": "3.7.6"
  }
 },
 "nbformat": 4,
 "nbformat_minor": 2
}
